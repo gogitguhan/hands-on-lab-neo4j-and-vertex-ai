{
  "cells": [
    {
      "cell_type": "markdown",
      "metadata": {
        "id": "JAPoU8Sm5E6e"
      },
      "source": [
        "<table align=\"left\">\n",
        "\n",
        "  <td>\n",
        "  <a href=\"https://colab.research.google.com/github/gogitguhan/hands-on-lab-neo4j-and-vertex-ai/blob/main/Lab%206%20-%20Vertex%20AI/vertex_ai_raw.ipynb\" target=\"_blank\">\n",
        "    <img src=\"https://cloud.google.com/ml-engine/images/colab-logo-32px.png\" alt=\"Colab logo\"> Run in Colab\n",
        "  </a>\n",
        "  <td>\n",
        "    <a href=\"https://github.com/gogitguhan/hands-on-lab-neo4j-and-vertex-ai/blob/main/Lab%206%20-%20Vertex%20AI/vertex_ai_raw.ipynb\">\n",
        "      <img src=\"https://cloud.google.com/ml-engine/images/github-logo-32px.png\" alt=\"GitHub logo\">\n",
        "      View on GitHub\n",
        "    </a>\n",
        "  </td>\n",
        "  </td>\n",
        "  <td>\n",
        "    <a href=\"https://console.cloud.google.com/vertex-ai/workbench/deploy-notebook?download_url=https://raw.githubusercontent.com/gogitguhan/hands-on-lab-neo4j-and-vertex-ai/main/Lab%206%20-%20Vertex%20AI/vertex_ai_raw.ipynb\">\n",
        "      <img src=\"https://lh3.googleusercontent.com/UiNooY4LUgW_oTvpsNhPpQzsstV5W8F7rYgxgGBD85cWJoLmrOzhVs_ksK_vgx40SHs7jCqkTkCk=e14-rj-sc0xffffff-h130-w32\" alt=\"Vertex AI logo\">\n",
        "      Open in Vertex AI Workbench\n",
        "    </a>\n",
        "  </td>\n",        
        "</table>"
      ]
    },
    {
      "cell_type": "markdown",
      "metadata": {
        "id": "BKipBL0kWY7w"
      },
      "source": [
        "# Install Additional Packages\n",
        "First off, you'll also need to install a few packages."
      ]
    },
    {
      "cell_type": "code",
      "execution_count": null,
      "metadata": {
        "colab": {
          "base_uri": "https://localhost:8080/"
        },
        "id": "tDipS8p-27qg",
        "outputId": "94bca470-e7fc-4071-a016-22bd2f7be9f0",
        "vscode": {
          "languageId": "python"
        }
      },
      "outputs": [],
      "source": [
        "%pip install --quiet google-cloud-storage\n",
        "%pip install --quiet google.cloud.aiplatform"
      ]
    },
    {
      "cell_type": "markdown",
      "metadata": {
        "id": "JBXAh7fVt9Ou"
      },
      "source": [
        "# Restart the Kernel\n",
        "After you install the additional packages, you need to restart the notebook kernel so it can find the packages.  When you run this, you may get a notification that the kernel crashed.  You can disregard that."
      ]
    },
    {
      "cell_type": "code",
      "execution_count": null,
      "metadata": {
        "colab": {
          "base_uri": "https://localhost:8080/"
        },
        "id": "ySSyV4T_3dQB",
        "outputId": "2b646b87-fb36-468c-f23c-c85cef25a165",
        "vscode": {
          "languageId": "python"
        }
      },
      "outputs": [],
      "source": [
        "import IPython\n",
        "\n",
        "app = IPython.Application.instance()\n",
        "app.kernel.do_shutdown(True)"
      ]
    },
    {
      "cell_type": "markdown",
      "metadata": {
        "id": "nRLomQ5ekAkE"
      },
      "source": [
        "# Download and Split the Data\n",
        "Now let's download the data set and split it into training, validation and test sets."
      ]
    },
    {
      "cell_type": "code",
      "execution_count": null,
      "metadata": {
        "colab": {
          "base_uri": "https://localhost:8080/"
        },
        "id": "GHgXinwclEH2",
        "outputId": "ebf3a2c3-51fd-4e25-aa2b-61d21264a245",
        "vscode": {
          "languageId": "python"
        }
      },
      "outputs": [],
      "source": [
        "!wget https://storage.googleapis.com/neo4j-datasets/form13/2021.csv"
      ]
    },
    {
      "cell_type": "code",
      "execution_count": null,
      "metadata": {
        "id": "tSxivpJUGgsK",
        "vscode": {
          "languageId": "python"
        }
      },
      "outputs": [],
      "source": [
        "import pandas\n",
        "df = pandas.read_csv('2021.csv')\n",
        "\n",
        "df['split']=df['reportCalendarOrQuarter']\n",
        "df['split']=df['split'].replace(['03-31-2021', '06-30-2021', '09-30-2021'], ['TRAIN', 'VALIDATE', 'TEST'])\n",
        "\n",
        "df = df.drop(columns=['reportCalendarOrQuarter'])\n",
        "\n",
        "df.to_csv('raw.csv', index=False)"
      ]
    },
    {
      "cell_type": "markdown",
      "metadata": {
        "id": "Id6tjQDbgf2S"
      },
      "source": [
        "# Authenticate your Google Cloud Account\n",
        "These steps will authenticate the notebook using your Google Cloud credentials."
      ]
    },
    {
      "cell_type": "code",
      "execution_count": null,
      "metadata": {
        "id": "CvZqoRzdlu6m",
        "vscode": {
          "languageId": "python"
        }
      },
      "outputs": [],
      "source": [
        "# Enter the inputs!\n",
        "PROJECT_ID=''\n",
        "while PROJECT_ID=='':\n",
        "  PROJECT_ID = input('Enter your GCP Project ID: ')\n",
        "\n",
        "# You can leave these defaults\n",
        "STORAGE_BUCKET = PROJECT_ID + '-form13'\n",
        "REGION = 'us-east1'"
      ]
    },
    {
      "cell_type": "code",
      "execution_count": null,
      "metadata": {
        "id": "1XoT1nT_JlYx",
        "vscode": {
          "languageId": "python"
        }
      },
      "outputs": [],
      "source": [
        "import os\n",
        "os.environ['GCLOUD_PROJECT'] = PROJECT_ID"
      ]
    },
    {
      "cell_type": "code",
      "execution_count": null,
      "metadata": {
        "id": "HucMnpmVgfmX",
        "vscode": {
          "languageId": "python"
        }
      },
      "outputs": [],
      "source": [
        "try:\n",
        "    from google.colab import auth as google_auth\n",
        "    google_auth.authenticate_user()\n",
        "except:\n",
        "    pass"
      ]
    },
    {
      "cell_type": "markdown",
      "metadata": {
        "id": "FUU7z4FjJS90"
      },
      "source": [
        "# Upload to a GCP Cloud Storage Bucket\n",
        "\n",
        "To get the data into Vertex AI, we must first put it in a bucket as a CSV."
      ]
    },
    {
      "cell_type": "code",
      "execution_count": null,
      "metadata": {
        "id": "e3nbLg1cKJpJ",
        "vscode": {
          "languageId": "python"
        }
      },
      "outputs": [],
      "source": [
        "from google.cloud import storage\n",
        "client = storage.Client()"
      ]
    },
    {
      "cell_type": "code",
      "execution_count": null,
      "metadata": {
        "id": "4dAkAU5ALnUo",
        "vscode": {
          "languageId": "python"
        }
      },
      "outputs": [],
      "source": [
        "bucket = client.bucket(STORAGE_BUCKET)"
      ]
    },
    {
      "cell_type": "code",
      "execution_count": null,
      "metadata": {
        "id": "UTo7-_oJL_dZ",
        "vscode": {
          "languageId": "python"
        }
      },
      "outputs": [],
      "source": [
        "filename = 'raw.csv'\n",
        "upload_path = os.path.join('form13', filename)\n",
        "blob = bucket.blob(upload_path)\n",
        "blob.upload_from_filename(filename)"
      ]
    },
    {
      "cell_type": "markdown",
      "metadata": {
        "id": "ArK3cfKsdT1x"
      },
      "source": [
        "# Train a Model on GCP\n",
        "We'll use the original features to train an AutoML model."
      ]
    },
    {
      "cell_type": "code",
      "execution_count": null,
      "metadata": {
        "colab": {
          "base_uri": "https://localhost:8080/"
        },
        "id": "KGjrD-k3dsCN",
        "outputId": "64698c1c-0acb-4a0b-de01-d97ccccc16bf",
        "vscode": {
          "languageId": "python"
        }
      },
      "outputs": [],
      "source": [
        "from google.cloud import aiplatform\n",
        "\n",
        "aiplatform.init(project=PROJECT_ID, location=REGION)\n",
        "\n",
        "dataset = aiplatform.TabularDataset.create(\n",
        "    display_name=\"form13-raw\",\n",
        "    gcs_source=os.path.join(\"gs://\", STORAGE_BUCKET, 'form13', 'raw.csv'),\n",
        ")\n",
        "dataset.wait()\n",
        "\n",
        "print(f'\\tDataset: \"{dataset.display_name}\"')\n",
        "print(f'\\tname: \"{dataset.resource_name}\"')"
      ]
    },
    {
      "cell_type": "code",
      "execution_count": null,
      "metadata": {
        "id": "oaSPuk31N2xS",
        "vscode": {
          "languageId": "python"
        }
      },
      "outputs": [],
      "source": [
        "job = aiplatform.AutoMLTabularTrainingJob(\n",
        "    display_name='form13-raw',\n",
        "    optimization_prediction_type='classification'\n",
        ")"
      ]
    },
    {
      "cell_type": "code",
      "execution_count": null,
      "metadata": {
        "colab": {
          "base_uri": "https://localhost:8080/"
        },
        "id": "Fqf44y_G8vi1",
        "outputId": "e6fe8d52-5919-44e0-ebab-f78c50ba9dbf",
        "vscode": {
          "languageId": "python"
        }
      },
      "outputs": [],
      "source": [
        "model = job.run(\n",
        "    dataset=dataset,\n",
        "    target_column='target',\n",
        "    predefined_split_column_name='split',\n",
        "    model_display_name='form13-raw',\n",
        "    disable_early_stopping=False,\n",
        "    budget_milli_node_hours=1000,\n",
        ")"
      ]
    },
    {
      "cell_type": "markdown",
      "metadata": {
        "id": "kt03COEXxKOH"
      },
      "source": [
        "1000 milli node hours, or one node hour, is the minimum budget that Vertex AI allows.  However, Vertex AI isn't respecting that budget currently.  This job will probably run for two and a half hours.  \n",
        "\n",
        "We're going to move on while that runs.  You can check on the job later in the [Google Cloud Console](https://console.cloud.google.com/) to see the results.  There's a link to the specific job in the output of the cell above."
      ]
    }
  ],
  "metadata": {
    "colab": {
      "name": "vertex_ai_raw.ipynb",
      "provenance": [],
      "toc_visible": true
    },
    "kernelspec": {
      "display_name": "Python 3",
      "name": "python3"
    }
  },
  "nbformat": 4,
  "nbformat_minor": 0
}
